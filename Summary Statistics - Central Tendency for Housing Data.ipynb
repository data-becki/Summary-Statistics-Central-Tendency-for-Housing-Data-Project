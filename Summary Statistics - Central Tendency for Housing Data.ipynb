{
 "cells": [
  {
   "cell_type": "markdown",
   "id": "60766f8e",
   "metadata": {},
   "source": [
    "# Central Tendency for Housing Data"
   ]
  },
  {
   "cell_type": "markdown",
   "id": "d7e42e52",
   "metadata": {},
   "source": [
    "In this project, you will find the mean, median, and mode cost of one-bedroom apartments in three of the five New York City boroughs: Brooklyn, Manhattan, and Queens.\n",
    "\n",
    "Using your findings, you will make conclusions about the cost of living in each of the boroughs. We will also discuss an important assumption that we make when we point out differences between the boroughs.\n",
    "\n",
    "We worked with Streeteasy.com (https://streeteasy.com/) to collect this data. While we will only focus on the cost of one-bedroom apartments, the dataset includes a lot more information (https://github.com/Codecademy/datasets/tree/master/streeteasy) if you’re interested in asking your own questions about the Brooklyn, Manhattan, and Queens housing market.\n",
    "\n",
    "**Note: the datasets include information for apartment sizes ranging from studio to 5 bedroom.**"
   ]
  },
  {
   "cell_type": "code",
   "execution_count": 1,
   "id": "95f2e705",
   "metadata": {},
   "outputs": [],
   "source": [
    "# Import packages\n",
    "import numpy as np\n",
    "import pandas as pd\n",
    "from scipy import stats\n",
    "from matplotlib import pyplot as plt"
   ]
  },
  {
   "cell_type": "markdown",
   "id": "2238c3c5",
   "metadata": {},
   "source": [
    "## Observing your Data"
   ]
  },
  {
   "cell_type": "markdown",
   "id": "1b1b6b55",
   "metadata": {},
   "source": [
    "1. We’ve imported data about one-bedroom apartments in three of New York City’s boroughs: Brooklyn, Manhattan, and Queens. We saved the values to:\n",
    "    - brooklyn_one_bed\n",
    "    - manhattan_one_bed\n",
    "    - queens_one_bed\n",
    "\n",
    "    In this project, we only care about the price of apartments, so we saved the price of apartments in each borough to:\n",
    "\n",
    "    - brooklyn_price\n",
    "    - manhattan_price\n",
    "    - queens_price\n",
    "\n",
    "    If you want to see what these arrays look like, you can use print statements to see them in the output terminal."
   ]
  },
  {
   "cell_type": "code",
   "execution_count": 2,
   "id": "54995c31",
   "metadata": {},
   "outputs": [],
   "source": [
    "# Read in housing data\n",
    "brooklyn_one_bed = pd.read_csv('brooklyn-one-bed.csv')\n",
    "brooklyn_price = brooklyn_one_bed['rent']\n",
    "\n",
    "manhattan_one_bed = pd.read_csv('manhattan-one-bed.csv')\n",
    "manhattan_price = manhattan_one_bed['rent']\n",
    "\n",
    "queens_one_bed = pd.read_csv('queens-one-bed.csv')\n",
    "queens_price = queens_one_bed['rent']"
   ]
  },
  {
   "cell_type": "code",
   "execution_count": 3,
   "id": "41c0f535",
   "metadata": {},
   "outputs": [
    {
     "data": {
      "text/html": [
       "<div>\n",
       "<style scoped>\n",
       "    .dataframe tbody tr th:only-of-type {\n",
       "        vertical-align: middle;\n",
       "    }\n",
       "\n",
       "    .dataframe tbody tr th {\n",
       "        vertical-align: top;\n",
       "    }\n",
       "\n",
       "    .dataframe thead th {\n",
       "        text-align: right;\n",
       "    }\n",
       "</style>\n",
       "<table border=\"1\" class=\"dataframe\">\n",
       "  <thead>\n",
       "    <tr style=\"text-align: right;\">\n",
       "      <th></th>\n",
       "      <th>rental_id</th>\n",
       "      <th>rent</th>\n",
       "      <th>bedrooms</th>\n",
       "      <th>bathrooms</th>\n",
       "      <th>size_sqft</th>\n",
       "      <th>min_to_subway</th>\n",
       "      <th>floor</th>\n",
       "      <th>building_age_yrs</th>\n",
       "      <th>no_fee</th>\n",
       "      <th>has_roofdeck</th>\n",
       "      <th>has_washer_dryer</th>\n",
       "      <th>has_doorman</th>\n",
       "      <th>has_elevator</th>\n",
       "      <th>has_dishwasher</th>\n",
       "      <th>has_patio</th>\n",
       "      <th>has_gym</th>\n",
       "      <th>neighborhood</th>\n",
       "      <th>borough</th>\n",
       "    </tr>\n",
       "  </thead>\n",
       "  <tbody>\n",
       "    <tr>\n",
       "      <th>0</th>\n",
       "      <td>2869</td>\n",
       "      <td>3600</td>\n",
       "      <td>3.0</td>\n",
       "      <td>2</td>\n",
       "      <td>900</td>\n",
       "      <td>4</td>\n",
       "      <td>1.0</td>\n",
       "      <td>15</td>\n",
       "      <td>1</td>\n",
       "      <td>0</td>\n",
       "      <td>0</td>\n",
       "      <td>0</td>\n",
       "      <td>0</td>\n",
       "      <td>0</td>\n",
       "      <td>0</td>\n",
       "      <td>0</td>\n",
       "      <td>Williamsburg</td>\n",
       "      <td>Brooklyn</td>\n",
       "    </tr>\n",
       "    <tr>\n",
       "      <th>1</th>\n",
       "      <td>4318</td>\n",
       "      <td>3900</td>\n",
       "      <td>3.0</td>\n",
       "      <td>2</td>\n",
       "      <td>1000</td>\n",
       "      <td>4</td>\n",
       "      <td>9.0</td>\n",
       "      <td>8</td>\n",
       "      <td>0</td>\n",
       "      <td>0</td>\n",
       "      <td>0</td>\n",
       "      <td>0</td>\n",
       "      <td>1</td>\n",
       "      <td>0</td>\n",
       "      <td>0</td>\n",
       "      <td>0</td>\n",
       "      <td>Greenwood</td>\n",
       "      <td>Brooklyn</td>\n",
       "    </tr>\n",
       "    <tr>\n",
       "      <th>2</th>\n",
       "      <td>6265</td>\n",
       "      <td>2700</td>\n",
       "      <td>2.0</td>\n",
       "      <td>1</td>\n",
       "      <td>900</td>\n",
       "      <td>4</td>\n",
       "      <td>2.0</td>\n",
       "      <td>96</td>\n",
       "      <td>0</td>\n",
       "      <td>0</td>\n",
       "      <td>0</td>\n",
       "      <td>0</td>\n",
       "      <td>0</td>\n",
       "      <td>0</td>\n",
       "      <td>0</td>\n",
       "      <td>0</td>\n",
       "      <td>Gowanus</td>\n",
       "      <td>Brooklyn</td>\n",
       "    </tr>\n",
       "    <tr>\n",
       "      <th>3</th>\n",
       "      <td>24</td>\n",
       "      <td>4900</td>\n",
       "      <td>1.0</td>\n",
       "      <td>1</td>\n",
       "      <td>1216</td>\n",
       "      <td>6</td>\n",
       "      <td>3.0</td>\n",
       "      <td>88</td>\n",
       "      <td>0</td>\n",
       "      <td>0</td>\n",
       "      <td>0</td>\n",
       "      <td>0</td>\n",
       "      <td>0</td>\n",
       "      <td>0</td>\n",
       "      <td>0</td>\n",
       "      <td>0</td>\n",
       "      <td>Brooklyn Heights</td>\n",
       "      <td>Brooklyn</td>\n",
       "    </tr>\n",
       "    <tr>\n",
       "      <th>4</th>\n",
       "      <td>9481</td>\n",
       "      <td>3900</td>\n",
       "      <td>0.0</td>\n",
       "      <td>1</td>\n",
       "      <td>1100</td>\n",
       "      <td>3</td>\n",
       "      <td>4.0</td>\n",
       "      <td>85</td>\n",
       "      <td>1</td>\n",
       "      <td>0</td>\n",
       "      <td>0</td>\n",
       "      <td>0</td>\n",
       "      <td>0</td>\n",
       "      <td>0</td>\n",
       "      <td>0</td>\n",
       "      <td>0</td>\n",
       "      <td>Williamsburg</td>\n",
       "      <td>Brooklyn</td>\n",
       "    </tr>\n",
       "  </tbody>\n",
       "</table>\n",
       "</div>"
      ],
      "text/plain": [
       "   rental_id  rent  bedrooms  bathrooms  size_sqft  min_to_subway  floor  \\\n",
       "0       2869  3600       3.0          2        900              4    1.0   \n",
       "1       4318  3900       3.0          2       1000              4    9.0   \n",
       "2       6265  2700       2.0          1        900              4    2.0   \n",
       "3         24  4900       1.0          1       1216              6    3.0   \n",
       "4       9481  3900       0.0          1       1100              3    4.0   \n",
       "\n",
       "   building_age_yrs  no_fee  has_roofdeck  has_washer_dryer  has_doorman  \\\n",
       "0                15       1             0                 0            0   \n",
       "1                 8       0             0                 0            0   \n",
       "2                96       0             0                 0            0   \n",
       "3                88       0             0                 0            0   \n",
       "4                85       1             0                 0            0   \n",
       "\n",
       "   has_elevator  has_dishwasher  has_patio  has_gym      neighborhood  \\\n",
       "0             0               0          0        0      Williamsburg   \n",
       "1             1               0          0        0         Greenwood   \n",
       "2             0               0          0        0           Gowanus   \n",
       "3             0               0          0        0  Brooklyn Heights   \n",
       "4             0               0          0        0      Williamsburg   \n",
       "\n",
       "    borough  \n",
       "0  Brooklyn  \n",
       "1  Brooklyn  \n",
       "2  Brooklyn  \n",
       "3  Brooklyn  \n",
       "4  Brooklyn  "
      ]
     },
     "execution_count": 3,
     "metadata": {},
     "output_type": "execute_result"
    }
   ],
   "source": [
    "brooklyn_one_bed.head()"
   ]
  },
  {
   "cell_type": "code",
   "execution_count": 4,
   "id": "4c046c4a",
   "metadata": {},
   "outputs": [
    {
     "data": {
      "text/html": [
       "<div>\n",
       "<style scoped>\n",
       "    .dataframe tbody tr th:only-of-type {\n",
       "        vertical-align: middle;\n",
       "    }\n",
       "\n",
       "    .dataframe tbody tr th {\n",
       "        vertical-align: top;\n",
       "    }\n",
       "\n",
       "    .dataframe thead th {\n",
       "        text-align: right;\n",
       "    }\n",
       "</style>\n",
       "<table border=\"1\" class=\"dataframe\">\n",
       "  <thead>\n",
       "    <tr style=\"text-align: right;\">\n",
       "      <th></th>\n",
       "      <th>rental_id</th>\n",
       "      <th>rent</th>\n",
       "      <th>bedrooms</th>\n",
       "      <th>bathrooms</th>\n",
       "      <th>size_sqft</th>\n",
       "      <th>min_to_subway</th>\n",
       "      <th>floor</th>\n",
       "      <th>building_age_yrs</th>\n",
       "      <th>no_fee</th>\n",
       "      <th>has_roofdeck</th>\n",
       "      <th>has_washer_dryer</th>\n",
       "      <th>has_doorman</th>\n",
       "      <th>has_elevator</th>\n",
       "      <th>has_dishwasher</th>\n",
       "      <th>has_patio</th>\n",
       "      <th>has_gym</th>\n",
       "    </tr>\n",
       "  </thead>\n",
       "  <tbody>\n",
       "    <tr>\n",
       "      <th>count</th>\n",
       "      <td>1013.000000</td>\n",
       "      <td>1013.000000</td>\n",
       "      <td>1013.000000</td>\n",
       "      <td>1013.000000</td>\n",
       "      <td>1013.000000</td>\n",
       "      <td>1013.000000</td>\n",
       "      <td>1013.000000</td>\n",
       "      <td>1013.000000</td>\n",
       "      <td>1013.000000</td>\n",
       "      <td>1013.00000</td>\n",
       "      <td>1013.000000</td>\n",
       "      <td>1013.000000</td>\n",
       "      <td>1013.000000</td>\n",
       "      <td>1013.000000</td>\n",
       "      <td>1013.000000</td>\n",
       "      <td>1013.000000</td>\n",
       "    </tr>\n",
       "    <tr>\n",
       "      <th>mean</th>\n",
       "      <td>5948.951629</td>\n",
       "      <td>3327.403751</td>\n",
       "      <td>1.578973</td>\n",
       "      <td>1.234946</td>\n",
       "      <td>899.414610</td>\n",
       "      <td>4.721619</td>\n",
       "      <td>6.206318</td>\n",
       "      <td>55.730503</td>\n",
       "      <td>0.515301</td>\n",
       "      <td>0.06614</td>\n",
       "      <td>0.076012</td>\n",
       "      <td>0.103653</td>\n",
       "      <td>0.120434</td>\n",
       "      <td>0.089832</td>\n",
       "      <td>0.021718</td>\n",
       "      <td>0.076012</td>\n",
       "    </tr>\n",
       "    <tr>\n",
       "      <th>std</th>\n",
       "      <td>3146.852489</td>\n",
       "      <td>1602.395143</td>\n",
       "      <td>0.973555</td>\n",
       "      <td>0.474740</td>\n",
       "      <td>355.094481</td>\n",
       "      <td>3.285117</td>\n",
       "      <td>9.051340</td>\n",
       "      <td>44.330543</td>\n",
       "      <td>0.500013</td>\n",
       "      <td>0.24865</td>\n",
       "      <td>0.265148</td>\n",
       "      <td>0.304960</td>\n",
       "      <td>0.325630</td>\n",
       "      <td>0.286082</td>\n",
       "      <td>0.145832</td>\n",
       "      <td>0.265148</td>\n",
       "    </tr>\n",
       "    <tr>\n",
       "      <th>min</th>\n",
       "      <td>24.000000</td>\n",
       "      <td>1275.000000</td>\n",
       "      <td>0.000000</td>\n",
       "      <td>0.000000</td>\n",
       "      <td>250.000000</td>\n",
       "      <td>0.000000</td>\n",
       "      <td>1.000000</td>\n",
       "      <td>0.000000</td>\n",
       "      <td>0.000000</td>\n",
       "      <td>0.00000</td>\n",
       "      <td>0.000000</td>\n",
       "      <td>0.000000</td>\n",
       "      <td>0.000000</td>\n",
       "      <td>0.000000</td>\n",
       "      <td>0.000000</td>\n",
       "      <td>0.000000</td>\n",
       "    </tr>\n",
       "    <tr>\n",
       "      <th>25%</th>\n",
       "      <td>3375.000000</td>\n",
       "      <td>2400.000000</td>\n",
       "      <td>1.000000</td>\n",
       "      <td>1.000000</td>\n",
       "      <td>680.000000</td>\n",
       "      <td>2.000000</td>\n",
       "      <td>2.000000</td>\n",
       "      <td>7.000000</td>\n",
       "      <td>0.000000</td>\n",
       "      <td>0.00000</td>\n",
       "      <td>0.000000</td>\n",
       "      <td>0.000000</td>\n",
       "      <td>0.000000</td>\n",
       "      <td>0.000000</td>\n",
       "      <td>0.000000</td>\n",
       "      <td>0.000000</td>\n",
       "    </tr>\n",
       "    <tr>\n",
       "      <th>50%</th>\n",
       "      <td>6144.000000</td>\n",
       "      <td>3000.000000</td>\n",
       "      <td>2.000000</td>\n",
       "      <td>1.000000</td>\n",
       "      <td>845.000000</td>\n",
       "      <td>4.000000</td>\n",
       "      <td>3.000000</td>\n",
       "      <td>77.000000</td>\n",
       "      <td>1.000000</td>\n",
       "      <td>0.00000</td>\n",
       "      <td>0.000000</td>\n",
       "      <td>0.000000</td>\n",
       "      <td>0.000000</td>\n",
       "      <td>0.000000</td>\n",
       "      <td>0.000000</td>\n",
       "      <td>0.000000</td>\n",
       "    </tr>\n",
       "    <tr>\n",
       "      <th>75%</th>\n",
       "      <td>8676.000000</td>\n",
       "      <td>3850.000000</td>\n",
       "      <td>2.000000</td>\n",
       "      <td>1.000000</td>\n",
       "      <td>1000.000000</td>\n",
       "      <td>7.000000</td>\n",
       "      <td>6.000000</td>\n",
       "      <td>96.000000</td>\n",
       "      <td>1.000000</td>\n",
       "      <td>0.00000</td>\n",
       "      <td>0.000000</td>\n",
       "      <td>0.000000</td>\n",
       "      <td>0.000000</td>\n",
       "      <td>0.000000</td>\n",
       "      <td>0.000000</td>\n",
       "      <td>0.000000</td>\n",
       "    </tr>\n",
       "    <tr>\n",
       "      <th>max</th>\n",
       "      <td>11343.000000</td>\n",
       "      <td>18000.000000</td>\n",
       "      <td>5.000000</td>\n",
       "      <td>4.000000</td>\n",
       "      <td>3243.000000</td>\n",
       "      <td>43.000000</td>\n",
       "      <td>68.000000</td>\n",
       "      <td>174.000000</td>\n",
       "      <td>1.000000</td>\n",
       "      <td>1.00000</td>\n",
       "      <td>1.000000</td>\n",
       "      <td>1.000000</td>\n",
       "      <td>1.000000</td>\n",
       "      <td>1.000000</td>\n",
       "      <td>1.000000</td>\n",
       "      <td>1.000000</td>\n",
       "    </tr>\n",
       "  </tbody>\n",
       "</table>\n",
       "</div>"
      ],
      "text/plain": [
       "          rental_id          rent     bedrooms    bathrooms    size_sqft  \\\n",
       "count   1013.000000   1013.000000  1013.000000  1013.000000  1013.000000   \n",
       "mean    5948.951629   3327.403751     1.578973     1.234946   899.414610   \n",
       "std     3146.852489   1602.395143     0.973555     0.474740   355.094481   \n",
       "min       24.000000   1275.000000     0.000000     0.000000   250.000000   \n",
       "25%     3375.000000   2400.000000     1.000000     1.000000   680.000000   \n",
       "50%     6144.000000   3000.000000     2.000000     1.000000   845.000000   \n",
       "75%     8676.000000   3850.000000     2.000000     1.000000  1000.000000   \n",
       "max    11343.000000  18000.000000     5.000000     4.000000  3243.000000   \n",
       "\n",
       "       min_to_subway        floor  building_age_yrs       no_fee  \\\n",
       "count    1013.000000  1013.000000       1013.000000  1013.000000   \n",
       "mean        4.721619     6.206318         55.730503     0.515301   \n",
       "std         3.285117     9.051340         44.330543     0.500013   \n",
       "min         0.000000     1.000000          0.000000     0.000000   \n",
       "25%         2.000000     2.000000          7.000000     0.000000   \n",
       "50%         4.000000     3.000000         77.000000     1.000000   \n",
       "75%         7.000000     6.000000         96.000000     1.000000   \n",
       "max        43.000000    68.000000        174.000000     1.000000   \n",
       "\n",
       "       has_roofdeck  has_washer_dryer  has_doorman  has_elevator  \\\n",
       "count    1013.00000       1013.000000  1013.000000   1013.000000   \n",
       "mean        0.06614          0.076012     0.103653      0.120434   \n",
       "std         0.24865          0.265148     0.304960      0.325630   \n",
       "min         0.00000          0.000000     0.000000      0.000000   \n",
       "25%         0.00000          0.000000     0.000000      0.000000   \n",
       "50%         0.00000          0.000000     0.000000      0.000000   \n",
       "75%         0.00000          0.000000     0.000000      0.000000   \n",
       "max         1.00000          1.000000     1.000000      1.000000   \n",
       "\n",
       "       has_dishwasher    has_patio      has_gym  \n",
       "count     1013.000000  1013.000000  1013.000000  \n",
       "mean         0.089832     0.021718     0.076012  \n",
       "std          0.286082     0.145832     0.265148  \n",
       "min          0.000000     0.000000     0.000000  \n",
       "25%          0.000000     0.000000     0.000000  \n",
       "50%          0.000000     0.000000     0.000000  \n",
       "75%          0.000000     0.000000     0.000000  \n",
       "max          1.000000     1.000000     1.000000  "
      ]
     },
     "execution_count": 4,
     "metadata": {},
     "output_type": "execute_result"
    }
   ],
   "source": [
    "brooklyn_one_bed.describe()"
   ]
  },
  {
   "cell_type": "code",
   "execution_count": 5,
   "id": "29c4e810",
   "metadata": {},
   "outputs": [
    {
     "data": {
      "text/plain": [
       "rental_id           0\n",
       "rent                0\n",
       "bedrooms            0\n",
       "bathrooms           0\n",
       "size_sqft           0\n",
       "min_to_subway       0\n",
       "floor               0\n",
       "building_age_yrs    0\n",
       "no_fee              0\n",
       "has_roofdeck        0\n",
       "has_washer_dryer    0\n",
       "has_doorman         0\n",
       "has_elevator        0\n",
       "has_dishwasher      0\n",
       "has_patio           0\n",
       "has_gym             0\n",
       "neighborhood        0\n",
       "borough             0\n",
       "dtype: int64"
      ]
     },
     "execution_count": 5,
     "metadata": {},
     "output_type": "execute_result"
    }
   ],
   "source": [
    "brooklyn_one_bed.isnull().sum()"
   ]
  },
  {
   "cell_type": "markdown",
   "id": "4865a470",
   "metadata": {},
   "source": [
    "## Find the Mean"
   ]
  },
  {
   "cell_type": "markdown",
   "id": "eaa5a17a",
   "metadata": {},
   "source": [
    "2. Find the average value of one-bedroom apartments in Brooklyn and save the value to `brooklyn_mean`."
   ]
  },
  {
   "cell_type": "markdown",
   "id": "c7e3b946",
   "metadata": {},
   "source": [
    "3. Find the average value of one-bedroom apartments in Manhattan and save the value to `manhattan_mean`.\n"
   ]
  },
  {
   "cell_type": "markdown",
   "id": "71235235",
   "metadata": {},
   "source": [
    "4. Find the average value of one-bedroom apartments in Queens and save the value to `queens_mean`."
   ]
  },
  {
   "cell_type": "code",
   "execution_count": 6,
   "id": "71c1743b",
   "metadata": {},
   "outputs": [],
   "source": [
    "# Add mean calculations below \n",
    "brooklyn_mean = np.mean(brooklyn_price)\n",
    "manhattan_mean = np.mean(manhattan_price)\n",
    "queens_mean = np.mean(queens_price)"
   ]
  },
  {
   "cell_type": "markdown",
   "id": "0e624632",
   "metadata": {},
   "source": [
    "## Find the Median"
   ]
  },
  {
   "cell_type": "markdown",
   "id": "b077f667",
   "metadata": {},
   "source": [
    "5. Find the median value of one-bedroom apartments in Brooklyn and save the value to `brooklyn_median`."
   ]
  },
  {
   "cell_type": "markdown",
   "id": "1f8ef0ba",
   "metadata": {},
   "source": [
    "6. Find the median value of one-bedroom apartments in Manhattan and save the value to `manhattan_median`."
   ]
  },
  {
   "cell_type": "markdown",
   "id": "a73a7018",
   "metadata": {},
   "source": [
    "7. Find the median value of one-bedroom apartments in Queens and save the value to `queens_median`."
   ]
  },
  {
   "cell_type": "code",
   "execution_count": 7,
   "id": "4bed6ac0",
   "metadata": {},
   "outputs": [],
   "source": [
    "# Add median calculations below\n",
    "brooklyn_median = np.median(brooklyn_price)\n",
    "manhattan_median = np.median(manhattan_price)\n",
    "queens_median = np.median(queens_price)"
   ]
  },
  {
   "cell_type": "markdown",
   "id": "6ad14f13",
   "metadata": {},
   "source": [
    "## Find the Mode"
   ]
  },
  {
   "cell_type": "markdown",
   "id": "00ee7130",
   "metadata": {},
   "source": [
    "8. Find the mode value of one-bedroom apartments in Brooklyn and save the value to `brooklyn_mode`."
   ]
  },
  {
   "cell_type": "markdown",
   "id": "5cbe98bf",
   "metadata": {},
   "source": [
    "9. Find the mode value of one-bedroom apartments in Manhattan and save the value to `manhattan_mode`."
   ]
  },
  {
   "cell_type": "markdown",
   "id": "0be1eb4b",
   "metadata": {},
   "source": [
    "10. Find the mode value of one-bedroom apartments in Queens and save the value to `queens_mode`."
   ]
  },
  {
   "cell_type": "code",
   "execution_count": 8,
   "id": "6406dc0e",
   "metadata": {},
   "outputs": [],
   "source": [
    "# Add mode calculations below\n",
    "brooklyn_mode = stats.mode(brooklyn_price)\n",
    "manhattan_mode = stats.mode(manhattan_price)\n",
    "queens_mode = stats.mode(queens_price)"
   ]
  },
  {
   "cell_type": "code",
   "execution_count": 9,
   "id": "b5c390a6",
   "metadata": {},
   "outputs": [
    {
     "name": "stdout",
     "output_type": "stream",
     "text": [
      "The mean price in Brooklyn is 3327.4.\n",
      "The mean price in Manhattan is 5138.94.\n",
      "The mean price in Queens is 2516.15.\n",
      "\n",
      "The median price in Brooklyn is 3000.0.\n",
      "The median price in Manhattan is 4000.0.\n",
      "The median price in Queens is 2350.0.\n",
      "\n",
      "The mode price in Brooklyn is 2500 and it appears 26 times out of 1013.\n",
      "The mode price in Manhattan is 3500 and it appears 77 times out of 3539.\n",
      "The mode price in Queens is 2200 and it appears 17 times out of 448.\n",
      "\n"
     ]
    }
   ],
   "source": [
    "# Mean\n",
    "try:\n",
    "    print(\"The mean price in Brooklyn is \" + str(round(brooklyn_mean, 2)) + '.')\n",
    "except NameError:\n",
    "    print(\"The mean price in Brooklyn is not yet defined.\")\n",
    "try:\n",
    "    print(\"The mean price in Manhattan is \" + str(round(manhattan_mean, 2)) + '.')\n",
    "except NameError:\n",
    "    print(\"The mean in Manhattan is not yet defined.\")\n",
    "try:\n",
    "    print(\"The mean price in Queens is \" + str(round(queens_mean, 2)) + '.\\n')\n",
    "except NameError:\n",
    "    print(\"The mean price in Queens is not yet defined.\")\n",
    "    \n",
    "    \n",
    "# Median\n",
    "try:\n",
    "    print(\"The median price in Brooklyn is \" + str(brooklyn_median) + '.')\n",
    "except NameError:\n",
    "    print(\"The median price in Brooklyn is not yet defined.\")\n",
    "try:\n",
    "    print(\"The median price in Manhattan is \" + str(manhattan_median) + '.')\n",
    "except NameError:\n",
    "    print(\"The median price in Manhattan is not yet defined.\")\n",
    "try:\n",
    "    print(\"The median price in Queens is \" + str(queens_median) + '.\\n')\n",
    "except NameError:\n",
    "    print(\"The median price in Queens is not yet defined.\")\n",
    "    \n",
    "    \n",
    "#Mode\n",
    "try:\n",
    "    print(\"The mode price in Brooklyn is \" + str(brooklyn_mode[0][0]) + \" and it appears \" + str(brooklyn_mode[1][0]) + \" times out of \" + str(len(brooklyn_price)) + '.')\n",
    "except NameError:\n",
    "    print(\"The mode price in Brooklyn is not yet defined.\")\n",
    "try:\n",
    "    print(\"The mode price in Manhattan is \" + str(manhattan_mode[0][0]) + \" and it appears \" + str(manhattan_mode[1][0]) + \" times out of \" + str(len(manhattan_price)) + '.')\n",
    "except NameError:\n",
    "    print(\"The mode price in Manhattan is not yet defined.\")\n",
    "try:\n",
    "    print(\"The mode price in Queens is \" + str(queens_mode[0][0]) + \" and it appears \" + str(queens_mode[1][0]) + \" times out of \" + str(len(queens_price)) + '.\\n')\n",
    "except NameError:\n",
    "    print(\"The mode price in Queens is not yet defined.\")"
   ]
  },
  {
   "cell_type": "markdown",
   "id": "3d50efa8",
   "metadata": {},
   "source": [
    "## What does our data tell us?"
   ]
  },
  {
   "cell_type": "markdown",
   "id": "ade56e11",
   "metadata": {},
   "source": [
    "11. Now what?\n",
    "\n",
    "    We don’t find the mean, median, and mode of a dataset for the sake of it.\n",
    "\n",
    "    The point is to make inferences from our data. What can you say about the housing prices in Brooklyn, Queens, and Manhattan? Besides, “It’s really expensive to live in any of them.”\n",
    "\n",
    "    Take a minute to think through it. We added our thoughts to the hint."
   ]
  },
  {
   "cell_type": "markdown",
   "id": "3bc2c345",
   "metadata": {},
   "source": [
    "*It looks like the average cost of apartments in Manhattan is the most, and in Queens is the least. This pattern holds for the median and mode values as well.*\n",
    "\n",
    "*The most frequent rent amount, or mode, is lower for all boroughs, as is the median.  That might mean there are apartments that are very expensive in the form of outliers to the data.*"
   ]
  },
  {
   "cell_type": "markdown",
   "id": "c93974d7",
   "metadata": {},
   "source": [
    "12. Did you make any assumptions when you drew inferences in the previous task?\n",
    "\n",
    "    If so, what assumptions did you make? We added our thoughts to the hint."
   ]
  },
  {
   "cell_type": "markdown",
   "id": "8e1d191a",
   "metadata": {},
   "source": [
    "From codecademy:\n",
    "\n",
    "*We assumed that the data from Streeteasy is representative of housing prices for the entire borough. Given that Streeteasy is only used by a subset of property owners, this is not a fair assumption. A quick search on rentcafe.com will tell you the averages are more like:*\n",
    "\n",
    "-    \\$2,695 for Brooklyn one-bedroom apartments\n",
    "-    \\$4,188 for Manhattan one-bedroom apartments\n",
    "-    \\$2,178 for Queens one-bedroom apartments\n",
    "\n",
    "*This is an interesting finding. Why may the cost from rentcafe.com be higher in Manhattan than in Brooklyn or Queens?*\n",
    "\n",
    "*Although we don’t have the answer to this question, it’s worth thinking about the possible differences between our Streeteasy data and where rentcafe is pulling their data.*\n",
    "\n",
    "And did codecademy search for one-bedrooms while this data contains info for all bedrooms?"
   ]
  },
  {
   "cell_type": "markdown",
   "id": "4a575908",
   "metadata": {},
   "source": [
    "13. Finally, think about what the histogram for each dataset will look like."
   ]
  },
  {
   "cell_type": "code",
   "execution_count": 29,
   "id": "cbdafc15",
   "metadata": {
    "scrolled": true
   },
   "outputs": [
    {
     "data": {
      "image/png": "[encoded data removed]",
      "text/plain": [
       "<Figure size 432x288 with 1 Axes>"
      ]
     },
     "metadata": {
      "needs_background": "light"
     },
     "output_type": "display_data"
    }
   ],
   "source": [
    "brooklyn_mode = 2500\n",
    "\n",
    "plt.hist(brooklyn_price, range=(10, 10000), bins=14,  edgecolor='black')\n",
    "plt.title(\"Brooklyn All Bedroom Prices\")\n",
    "plt.xlabel(\"Cost\")\n",
    "plt.ylabel(\"Count\")\n",
    "plt.axvline(brooklyn_mean, color='r', linestyle='solid', linewidth=2, label=\"mean\")\n",
    "plt.axvline(brooklyn_median, color='y', linestyle='dotted', linewidth=3, label=\"median\")\n",
    "plt.axvline(brooklyn_mode, color='orange', linestyle='dashed', linewidth=3, label=\"mode\")\n",
    "plt.legend()\n",
    "\n",
    "plt.show()"
   ]
  },
  {
   "cell_type": "code",
   "execution_count": 30,
   "id": "751e6228",
   "metadata": {
    "scrolled": true
   },
   "outputs": [
    {
     "data": {
      "image/png": "[encoded data removed]",
      "text/plain": [
       "<Figure size 432x288 with 1 Axes>"
      ]
     },
     "metadata": {
      "needs_background": "light"
     },
     "output_type": "display_data"
    }
   ],
   "source": [
    "manhattan_mode = 3500\n",
    "\n",
    "plt.hist(manhattan_price, range=(10, 10000), bins=14,  edgecolor='black')\n",
    "plt.title(\"Manhattan All Bedroom Prices\")\n",
    "plt.xlabel(\"Cost\")\n",
    "plt.ylabel(\"Count\")\n",
    "plt.axvline(manhattan_mean, color='r', linestyle='solid', linewidth=2, label=\"mean\")\n",
    "plt.axvline(manhattan_median, color='y', linestyle='dotted', linewidth=3, label=\"median\")\n",
    "plt.axvline(manhattan_mode, color='orange', linestyle='dashed', linewidth=3, label=\"mode\")\n",
    "plt.legend()\n",
    "\n",
    "plt.show()"
   ]
  },
  {
   "cell_type": "code",
   "execution_count": 31,
   "id": "2b3f43cf",
   "metadata": {},
   "outputs": [
    {
     "data": {
      "image/png": "[encoded data removed]",
      "text/plain": [
       "<Figure size 432x288 with 1 Axes>"
      ]
     },
     "metadata": {
      "needs_background": "light"
     },
     "output_type": "display_data"
    }
   ],
   "source": [
    "queens_mode = 2200\n",
    "\n",
    "plt.hist(queens_price, range=(10, 10000), bins=14,  edgecolor='black')\n",
    "plt.title(\"Queens All Bedroom Prices\")\n",
    "plt.xlabel(\"Cost\")\n",
    "plt.ylabel(\"Count\")\n",
    "plt.axvline(queens_mean, color='r', linestyle='solid', linewidth=2, label=\"mean\")\n",
    "plt.axvline(queens_median, color='y', linestyle='dotted', linewidth=3, label=\"median\")\n",
    "plt.axvline(queens_mode, color='orange', linestyle='dashed', linewidth=3, label=\"mode\")\n",
    "plt.legend()\n",
    "\n",
    "plt.show()"
   ]
  }
 ],
 "metadata": {
  "kernelspec": {
   "display_name": "Python 3 (ipykernel)",
   "language": "python",
   "name": "python3"
  },
  "language_info": {
   "codemirror_mode": {
    "name": "ipython",
    "version": 3
   },
   "file_extension": ".py",
   "mimetype": "text/x-python",
   "name": "python",
   "nbconvert_exporter": "python",
   "pygments_lexer": "ipython3",
   "version": "3.9.7"
  }
 },
 "nbformat": 4,
 "nbformat_minor": 5
}
